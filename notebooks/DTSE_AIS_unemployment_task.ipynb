{
 "cells": [
  {
   "cell_type": "markdown",
   "id": "3aaf2b1c",
   "metadata": {
    "pycharm": {
     "name": "#%% md\n"
    }
   },
   "source": [
    "#### Time series task for prospective DTSE AIS data scientists\n",
    "\n",
    "You have the following data available: \n",
    "\n",
    "- Macroeconomic Data for 1959Q1 - 2009Q3\n",
    "- realgdp: Real gross domestic product (Bil. of chained 2005 US dollars, seasonally adjusted annual rate)\n",
    "- pop: End of the quarter total population, all ages (in millions)\n",
    "- unemp: Seasonally adjusted unemployment rate (in %)\n",
    "- infl: Inflation rate (in %)"
   ]
  },
  {
   "cell_type": "code",
   "execution_count": 1,
   "id": "7ba72485",
   "metadata": {
    "pycharm": {
     "name": "#%%\n"
    }
   },
   "outputs": [
    {
     "data": {
      "text/html": [
       "<div>\n",
       "<style scoped>\n",
       "    .dataframe tbody tr th:only-of-type {\n",
       "        vertical-align: middle;\n",
       "    }\n",
       "\n",
       "    .dataframe tbody tr th {\n",
       "        vertical-align: top;\n",
       "    }\n",
       "\n",
       "    .dataframe thead th {\n",
       "        text-align: right;\n",
       "    }\n",
       "</style>\n",
       "<table border=\"1\" class=\"dataframe\">\n",
       "  <thead>\n",
       "    <tr style=\"text-align: right;\">\n",
       "      <th></th>\n",
       "      <th>Period</th>\n",
       "      <th>realgdp</th>\n",
       "      <th>pop</th>\n",
       "      <th>unemp</th>\n",
       "      <th>infl</th>\n",
       "    </tr>\n",
       "  </thead>\n",
       "  <tbody>\n",
       "    <tr>\n",
       "      <th>0</th>\n",
       "      <td>1959-01-01</td>\n",
       "      <td>2710.349</td>\n",
       "      <td>177.146</td>\n",
       "      <td>5.8</td>\n",
       "      <td>0.00</td>\n",
       "    </tr>\n",
       "    <tr>\n",
       "      <th>1</th>\n",
       "      <td>1959-04-01</td>\n",
       "      <td>2778.801</td>\n",
       "      <td>177.830</td>\n",
       "      <td>5.1</td>\n",
       "      <td>2.34</td>\n",
       "    </tr>\n",
       "    <tr>\n",
       "      <th>2</th>\n",
       "      <td>1959-07-01</td>\n",
       "      <td>2775.488</td>\n",
       "      <td>178.657</td>\n",
       "      <td>5.3</td>\n",
       "      <td>2.74</td>\n",
       "    </tr>\n",
       "    <tr>\n",
       "      <th>3</th>\n",
       "      <td>1959-10-01</td>\n",
       "      <td>2785.204</td>\n",
       "      <td>179.386</td>\n",
       "      <td>5.6</td>\n",
       "      <td>0.27</td>\n",
       "    </tr>\n",
       "    <tr>\n",
       "      <th>4</th>\n",
       "      <td>1960-01-01</td>\n",
       "      <td>2847.699</td>\n",
       "      <td>180.007</td>\n",
       "      <td>5.2</td>\n",
       "      <td>2.31</td>\n",
       "    </tr>\n",
       "  </tbody>\n",
       "</table>\n",
       "</div>"
      ],
      "text/plain": [
       "       Period   realgdp      pop  unemp  infl\n",
       "0  1959-01-01  2710.349  177.146    5.8  0.00\n",
       "1  1959-04-01  2778.801  177.830    5.1  2.34\n",
       "2  1959-07-01  2775.488  178.657    5.3  2.74\n",
       "3  1959-10-01  2785.204  179.386    5.6  0.27\n",
       "4  1960-01-01  2847.699  180.007    5.2  2.31"
      ]
     },
     "execution_count": 1,
     "metadata": {},
     "output_type": "execute_result"
    }
   ],
   "source": [
    "import pandas as pd\n",
    "\n",
    "data = pd.read_csv('DTSE_AIS_unemployment_task_data.csv')\n",
    "data.head()"
   ]
  },
  {
   "cell_type": "markdown",
   "id": "e16c1e26",
   "metadata": {
    "pycharm": {
     "name": "#%% md\n"
    }
   },
   "source": [
    "##### Objectives\n",
    "\n",
    "Using  only the data provided:\n",
    "\n",
    "1) Forecast the quarterly unemployment rate until and including Q4 2013. The other available variables may or may not be used for the purposes of the forecast - that's up to you\n",
    "\n",
    "2) Predict how many people will be unemployed in 2013. For the purposes of this subtask, 65% of the population is considered to be in the labor force at all times\n",
    "\n",
    "- Describe and explain any exploratory steps you are taking\n",
    "- Put the biggest emphasis on the modeling part and explain your thought process and decisions taken\n",
    "- During modeling, you should try and compare at least two different models and try different parameters for the models of your choice, if applicable \n",
    "- Explain your model selection process and how you arrived at your final model choice\n",
    "- Summarize your final forecasts verbally, as if you would explain your results to a non-technical colleague\n",
    "\n",
    "Use this Jupyter notebook to show your work. After you're done, send either the .ipynb file, an HTML export, or a link to your personal repository. "
   ]
  }
 ],
 "metadata": {
  "kernelspec": {
   "display_name": "Python 3",
   "language": "python",
   "name": "python3"
  },
  "language_info": {
   "codemirror_mode": {
    "name": "ipython",
    "version": 3
   },
   "file_extension": ".py",
   "mimetype": "text/x-python",
   "name": "python",
   "nbconvert_exporter": "python",
   "pygments_lexer": "ipython3",
   "version": "3.8.8"
  }
 },
 "nbformat": 4,
 "nbformat_minor": 5
}